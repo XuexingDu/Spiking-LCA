{
 "cells": [
  {
   "cell_type": "code",
   "execution_count": null,
   "metadata": {},
   "outputs": [],
   "source": [
    "import brainpy as bp\n",
    "import brainpy.math as bm\n",
    "import numpy as np\n",
    "import matplotlib.pyplot as plt\n",
    "import os\n",
    "import  Neuron_models as NM\n",
    "import  calculation   as cal\n",
    "os.environ[\"CUDA_DEVICE_ORDER\"]=\"PCI_BUS_ID\"\n",
    "os.environ[\"CUDA_VISIBLE_DEVICES\"]=\"7\"  # specify which GPU(s) to be used\n",
    "bm.disable_gpu_memory_preallocation()\n",
    "bm.set_platform('gpu')"
   ]
  },
  {
   "cell_type": "code",
   "execution_count": null,
   "metadata": {},
   "outputs": [],
   "source": [
    "rng = np.random.RandomState(28)\n",
    "m, n = 7500, 10000\n",
    "# m, n = 3000, 5024\n",
    "# random design\n",
    "A = rng.randn(m, n)  # random design\n",
    "A_norm = np.linalg.norm(A,ord=2,axis = 0,keepdims =True)\n",
    "A = A /A_norm\n",
    "x0 = rng.rand(n)\n",
    "x0[x0 < 0.9] = 0\n",
    "b_np = np.dot(A, x0)\n",
    "b = np.dot(A.T,b_np)\n",
    "w = np.dot(A.T,A)\n",
    "w[np.diag_indices_from(w)] = 0\n",
    "w = bm.array(w)\n",
    "b = bm.array(b)\n",
    "l = 0.1 # regularization parameter\n"
   ]
  },
  {
   "cell_type": "code",
   "execution_count": null,
   "metadata": {},
   "outputs": [],
   "source": [
    "def measure_execution_time(func):\n",
    "    def wrapper(*args, **kwargs):\n",
    "        start_time = time.time()  # 记录开始时间\n",
    "        result = func(*args, **kwargs)  # 执行要测量运行时间的代码块\n",
    "        end_time = time.time()  # 记录结束时间\n",
    "        execution_time = end_time - start_time  # 计算运行时间\n",
    "        print(\"Execution Time: {:.6f} seconds\".format(execution_time))\n",
    "        return result, execution_time\n",
    "    return wrapper\n",
    "\n",
    "@measure_execution_time\n",
    "def measure_runner_time(runner, total_period):\n",
    "    runner.run(total_period)"
   ]
  },
  {
   "cell_type": "code",
   "execution_count": null,
   "metadata": {},
   "outputs": [],
   "source": [
    "import time \n",
    "pars = (w.shape[0], w, b, l)\n",
    "runner_pars = dict(monitors=['N.spike'], dt = 0.01)\n",
    "\n",
    "# net_LIF    = NM.SLCA_IF(*pars)\n",
    "net_LIF    = NM.SLCA_rk2(*pars)\n",
    "# net_Izh   = NM.SLCA_Izh(*pars)\n",
    "net_Izh   = NM.SLCA_GIF(*pars)\n",
    "net_ML     = NM.SLCA_ML(*pars)\n",
    "net_WB    = NM.SLCA_WB(*pars)\n",
    "\n",
    "total_period = 200\n",
    "# runner = bp.DSRunner(net,monitors=['N.spike','N.V','N2N.g'], inputs = [('N.input', b)], dt = 0.01)\n",
    "runner_LIF = bp.DSRunner(net_LIF, **runner_pars)\n",
    "runner_Izh = bp.DSRunner(net_Izh, **runner_pars)\n",
    "runner_ML  = bp.DSRunner(net_ML, **runner_pars )\n",
    "runner_WB  = bp.DSRunner(net_WB, **runner_pars )\n",
    "\n",
    "_, LIF_time = measure_runner_time(runner_LIF, total_period)\n",
    "_, Izh_time = measure_runner_time(runner_Izh, total_period)\n",
    "_, ML_time  = measure_runner_time(runner_ML, total_period)\n",
    "_, WB_time  = measure_runner_time(runner_WB, total_period)\n"
   ]
  },
  {
   "cell_type": "code",
   "execution_count": null,
   "metadata": {},
   "outputs": [],
   "source": [
    "point_number = 15\n",
    "time_interval = int(1.0/runner_LIF.dt)\n",
    "slice_value = np.linspace(1,int(total_period)*time_interval, point_number)\n",
    "list_value  = np.zeros((4,slice_value.shape[0]))\n",
    "list_value = {}\n",
    "for i,runner_method in enumerate([runner_LIF,runner_Izh,runner_ML,runner_WB]):\n",
    "    key = f\"list_value_{i}\"\n",
    "    list_value[key] = [np.sum(runner_method.mon['N.spike'][:int(value), :] / value * time_interval, axis=0) for value in slice_value]"
   ]
  },
  {
   "cell_type": "code",
   "execution_count": null,
   "metadata": {},
   "outputs": [],
   "source": [
    "nmse_LIF = np.array([cal.calculate_nmse(x0, x) for x in list_value['list_value_0']])\n",
    "nmse_Izh   = np.array([cal.calculate_nmse(x0, x) for x in list_value['list_value_1']])\n",
    "nmse_ML   = np.array([cal.calculate_nmse(x0, x) for x in list_value['list_value_2']])\n",
    "nmse_WB  = np.array([cal.calculate_nmse(x0, x) for x in list_value['list_value_3']])\n",
    "\n",
    "LIF_time = np.linspace(0,LIF_time,point_number)\n",
    "Izh_time = np.linspace(0,Izh_time,point_number)\n",
    "ML_time  = np.linspace(0,ML_time,point_number)\n",
    "WB_time  = np.linspace(0,WB_time,point_number)"
   ]
  },
  {
   "cell_type": "code",
   "execution_count": null,
   "metadata": {},
   "outputs": [],
   "source": [
    "fista_value, L2_error, time_consume = cal.fista(A,b_np, x0,l, 1600)"
   ]
  },
  {
   "cell_type": "code",
   "execution_count": null,
   "metadata": {},
   "outputs": [],
   "source": [
    "# colors = ['#8ECFC9', '#FFBE7A', '#FA7F6F', '#82B0D2','#BEB8DC','#E7DAD2']\n",
    "colors = ['#2878b5', '#c82423', '#800080', '#006400','#000000']\n",
    "# 复古配色\n",
    "# colors = [\"#0780cf\", \"#765005\", \"#fa6d1d\", \"#0e2c82\", \"#b6b51f\", \"#da1f18\", \"#701866\", \"#f47a75\", \"#009db2\", \"#024b51\", \"#0780cf\", \"#765005\"]\n",
    "#新特色\n",
    "# colors = [\"#63b2ee\", \"#76da91\", \"#f8cb7f\", \"#f89588\", \"#7cd6cf\", \"#9192ab\", \"#7898e1\", \"#efa666\", \"#eddd86\", \"#9987ce\", \"#63b2ee\", \"#76da91\"]\n",
    "markers = ['*', 'o', 's', 'D','X']\n",
    "\n",
    "plt_style = {\n",
    "    'figure.autolayout' : True,\n",
    "    'font.size' : 18,\n",
    "    'lines.linewidth' : 2,\n",
    "    'lines.markersize': 8,\n",
    "    'xtick.labelsize' : 'medium',\n",
    "    'ytick.labelsize' : 'medium',\n",
    "    'legend.fontsize' : 'small',\n",
    "    # 'axes.spines.top' : False,\n",
    "    # 'axes.spines.right' : False,\n",
    "    'xtick.labelsize' : 24,\n",
    "    'ytick.labelsize' : 24,\n",
    "    'xtick.major.size' : 6,\n",
    "    'ytick.major.size' : 6,\n",
    "    'legend.fontsize' : 16,\n",
    "    'axes.labelsize' : 24,\n",
    "    'axes.titlesize' : 24,\n",
    "    # 'font.family': \"Times New Roman\"\n",
    "    }\n",
    "for key, val in plt_style.items():\n",
    "    plt.rcParams[key] = val\n",
    "    \n",
    "interval = len(L2_error) // point_number\n",
    "\n",
    "plt.plot(time_consume[::interval] , L2_error[::interval],  color=colors[0], marker=markers[0], markerfacecolor='none', label='FISTA')\n",
    "plt.plot(LIF_time, nmse_LIF, color=colors[1], marker=markers[1], markerfacecolor='none', label='SLCA-LIF',)\n",
    "# plt.plot(Izh_time, nmse_LIF*0.98,   color=colors[2], marker=markers[2], markerfacecolor='none', label='SLCA-Izh')\n",
    "plt.plot(Izh_time, nmse_Izh,   color=colors[2], marker=markers[2], markerfacecolor='none', label='SLCA-GIF')\n",
    "plt.plot(ML_time,  nmse_ML,   color=colors[3], marker=markers[3], markerfacecolor='none', label='SLCA-ML')\n",
    "plt.plot(WB_time , nmse_WB,  color=colors[4], marker=markers[4], markerfacecolor='none', label='SLCA-WB')\n",
    "\n",
    "plt.legend()\n",
    "plt.xlim([0,15])\n",
    "plt.xlabel('Execution Time (s)')\n",
    "plt.ylabel('NMSE (dB)')\n",
    "plt.savefig('Figure/mult_neurons.pdf', format='pdf')\n",
    "plt.savefig('Figure/multi_neurons', format='png')"
   ]
  },
  {
   "cell_type": "code",
   "execution_count": null,
   "metadata": {},
   "outputs": [],
   "source": [
    "np.savez('Figure/Fig2b.npz', time_consume= time_consume, L2_error=L2_error, LIF_time=LIF_time, nmse_LIF=nmse_LIF, Izh_time=Izh_time, nmse_Izh=nmse_Izh, ML_time=ML_time, nmse_ML=nmse_ML, WB_time=WB_time, nmse_WB=nmse_WB )"
   ]
  },
  {
   "cell_type": "code",
   "execution_count": null,
   "metadata": {},
   "outputs": [],
   "source": []
  }
 ],
 "metadata": {
  "kernelspec": {
   "display_name": "slca",
   "language": "python",
   "name": "python3"
  },
  "language_info": {
   "codemirror_mode": {
    "name": "ipython",
    "version": 3
   },
   "file_extension": ".py",
   "mimetype": "text/x-python",
   "name": "python",
   "nbconvert_exporter": "python",
   "pygments_lexer": "ipython3",
   "version": "3.10.11"
  },
  "orig_nbformat": 4
 },
 "nbformat": 4,
 "nbformat_minor": 2
}
