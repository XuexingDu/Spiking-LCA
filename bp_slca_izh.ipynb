{
 "cells": [
  {
   "cell_type": "code",
   "execution_count": 15,
   "metadata": {},
   "outputs": [],
   "source": [
    "import brainpy as bp\n",
    "import brainpy.math as bm\n",
    "import numpy as np\n",
    "import matplotlib.pyplot as plt\n",
    "import os\n",
    "os.environ[\"CUDA_DEVICE_ORDER\"]=\"PCI_BUS_ID\"\n",
    "os.environ[\"CUDA_VISIBLE_DEVICES\"]=\"5,6\"  # specify which GPU(s) to be used\n",
    "bm.disable_gpu_memory_preallocation()\n",
    "bm.set_platform('gpu')"
   ]
  },
  {
   "cell_type": "code",
   "execution_count": 20,
   "metadata": {},
   "outputs": [],
   "source": [
    "class Izh(bp.NeuGroupNS):\n",
    "    def __init__(self, size, a=0.02, b=-0.1, c=-55.0, tau_ref=0., d= 6.0, V_th=30., method='rk2', **kwargs):\n",
    "        super(Izh, self).__init__(size=size, **kwargs)\n",
    "        # parameters\n",
    "        self.a = a\n",
    "        self.b = b\n",
    "        self.c = c\n",
    "        self.d = d\n",
    "        self.V_th = V_th\n",
    "        self.tau_ref = tau_ref\n",
    "        \n",
    "        # 初始化变量\n",
    "        self.V = bm.Variable(bm.zeros(self.num) - 65.)  # 膜电位\n",
    "        self.u = bm.Variable(self.V * b)  # u变量\n",
    "        self.input = bm.Variable(bm.zeros(self.num))  # 外界输入\n",
    "        self.t_last_spike = bm.Variable(bm.ones(self.num) * -1e7)  # 上一次脉冲发放时间\n",
    "        self.refractory = bm.Variable(bm.zeros(self.num, dtype=bool))  # 是否处于不应期\n",
    "        self.spike = bm.Variable(bm.zeros(self.num, dtype=bool))  # 脉冲发放状态\n",
    "        \n",
    "        # 定义积分器\n",
    "        self.integral = bp.odeint(f=self.derivative, method=method)\n",
    "            \n",
    "    def dV(self, V, t, u, Iext):\n",
    "        return 0.04 * V * V + 5 * V + 140 - u + Iext * 100\n",
    "    \n",
    "    def du(self, u, t, V):\n",
    "        return self.a * (self.b * V - u)\n",
    "    \n",
    "    # 将两个微分方程联合为一个，以便同时积分\n",
    "    @property\n",
    "    def derivative(self):\n",
    "        return bp.JointEq([self.dV, self.du])\n",
    "\n",
    "    def update(self):\n",
    "        _t = bp.share.load('t')\n",
    "        _dt = bp.share.load('dt')\n",
    "        V, u = self.integral(self.V, self.u, _t, self.input, dt=_dt)  # 更新变量V, u\n",
    "        refractory = (_t - self.t_last_spike) <= self.tau_ref  # 判断神经元是否处于不应期\n",
    "        V = bm.where(refractory, self.V, V)  # 若处于不应期，则返回原始膜电位self.V，否则返回更新后的膜电位V\n",
    "        spike = V > self.V_th  # 将大于阈值的神经元标记为发放了脉冲\n",
    "        self.spike.value = spike  # 更新神经元脉冲发放状态\n",
    "        self.t_last_spike.value = bm.where(spike, _t, self.t_last_spike)  # 更新最后一次脉冲发放时间\n",
    "        self.V.value = bm.where(spike, self.c, V)  # 将发放了脉冲的神经元的V置为c，其余不变\n",
    "        self.u.value = bm.where(spike, u + self.d, u)  # 将发放了脉冲的神经元的u增加d，其余不变\n",
    "        self.refractory.value = bm.logical_or(refractory, spike)  # 更新神经元是否处于不应期\n",
    "        self.input[:] = 0.  # 重置外界输入"
   ]
  },
  {
   "cell_type": "code",
   "execution_count": 21,
   "metadata": {},
   "outputs": [
    {
     "name": "stdout",
     "output_type": "stream",
     "text": [
      "Array(value=Array([[0.        , 0.7397555 , 0.62646115],\n",
      "                   [0.7397555 , 0.        , 0.82969487],\n",
      "                   [0.62646115, 0.82969487, 0.        ]]),\n",
      "      dtype=float32)\n",
      "Array(value=Array([1.5460999, 1.44855  , 1.74575  ]), dtype=float32)\n"
     ]
    }
   ],
   "source": [
    "s =bm.array([0.5,1,1.5])\n",
    "phi = bm.array([[0.3313,0.8148,0.4364],[0.8835,0.3621,0.2182],[0.3313,0.4527,0.8729]])\n",
    "b = bm.dot(phi.T,s)\n",
    "w = bm.dot(phi.T,phi)\n",
    "w[bm.diag_indices_from(w)] = 0\n",
    "print(w)\n",
    "print(b)"
   ]
  },
  {
   "cell_type": "code",
   "execution_count": 22,
   "metadata": {},
   "outputs": [],
   "source": [
    "class Spiking_LCA(bp.DynamicalSystemNS):\n",
    "    def __init__(self, num, w, b, lamb, method='rk2'):\n",
    "        super(Spiking_LCA, self).__init__()\n",
    "        \n",
    "        # parameter setting\n",
    "        self.lamb = lamb\n",
    "        \n",
    "        # network size\n",
    "        num_neuron = int(num)\n",
    "        self.N = Izh(num_neuron)\n",
    "        self.average_current = bm.Variable(bm.zeros(num_neuron))          # 平均电流记录\n",
    "        # synapses\n",
    "        self.N2N = bp.synapses.Exponential(pre=self.N,\n",
    "                                            post=self.N,\n",
    "                                            conn= bp.connect.All2All(),\n",
    "                                            g_max= w,\n",
    "                                            tau=1.,\n",
    "                                            output=bp.synouts.CUBA(),\n",
    "                                            method=method)\n",
    "\n",
    "    def reversed_function(self,x):\n",
    "        return 0.24999688 *x**2 + 2.86516435*x + 0.20432898\n",
    "\n",
    "    # def reversed_function(self, x):\n",
    "    #     return -0.0471247 * x**3 + 0.32773097 * x**2 + 2.83983869 * x + 0.20385288\n",
    "\n",
    "                \n",
    "    def update(self):\n",
    "        t = bp.share.load('t')\n",
    "        self.N2N()\n",
    "        self.average_current.value = self.average_current *t/(t + 1) + (b - self.N2N.g)/(t+1)\n",
    "        firing_rate  =  bm.maximum(self.average_current - self.lamb, 0.)\n",
    "        self.N.input =  bm.where(firing_rate > 1e-7, self.reversed_function(firing_rate) , 0)\n",
    "        self.N()"
   ]
  },
  {
   "cell_type": "code",
   "execution_count": 23,
   "metadata": {},
   "outputs": [
    {
     "name": "stderr",
     "output_type": "stream",
     "text": [
      "Predict 300000 steps: :   0%|          | 638/300000 [00:00<03:26, 1447.98it/s]"
     ]
    },
    {
     "name": "stderr",
     "output_type": "stream",
     "text": [
      "Predict 300000 steps: : 100%|██████████| 300000/300000 [02:14<00:00, 2224.02it/s] \n"
     ]
    }
   ],
   "source": [
    "net    = Spiking_LCA(w.shape[0],w,b,0.1)\n",
    "total_period = 3000\n",
    "runner = bp.DSRunner(net,monitors=['N.V','N.spike'], dt = 0.01)\n",
    "runner.run(total_period)"
   ]
  },
  {
   "cell_type": "code",
   "execution_count": 24,
   "metadata": {},
   "outputs": [
    {
     "name": "stdout",
     "output_type": "stream",
     "text": [
      "300000\n",
      "[0.73466667 0.10044444 1.08488889]\n"
     ]
    }
   ],
   "source": [
    "size_num = runner.mon['N.spike'].shape[0]\n",
    "print(size_num)\n",
    "spike_calculate = runner.mon['N.spike'][size_num//4:,:]\n",
    "sum_along_columns = np.sum(spike_calculate, axis=0)/total_period*4/3\n",
    "print(sum_along_columns)"
   ]
  },
  {
   "cell_type": "code",
   "execution_count": null,
   "metadata": {},
   "outputs": [],
   "source": []
  }
 ],
 "metadata": {
  "kernelspec": {
   "display_name": "slca",
   "language": "python",
   "name": "python3"
  },
  "language_info": {
   "codemirror_mode": {
    "name": "ipython",
    "version": 3
   },
   "file_extension": ".py",
   "mimetype": "text/x-python",
   "name": "python",
   "nbconvert_exporter": "python",
   "pygments_lexer": "ipython3",
   "version": "3.10.11"
  },
  "orig_nbformat": 4
 },
 "nbformat": 4,
 "nbformat_minor": 2
}
