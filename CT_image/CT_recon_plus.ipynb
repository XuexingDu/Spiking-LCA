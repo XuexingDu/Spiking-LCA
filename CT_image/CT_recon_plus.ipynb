{
 "cells": [
  {
   "cell_type": "code",
   "execution_count": null,
   "metadata": {},
   "outputs": [],
   "source": [
    "import numpy as np\n",
    "import matplotlib as mpl\n",
    "import matplotlib.pyplot as plt\n",
    "import scipy.optimize as spopt\n",
    "import scipy.fftpack as spfft\n",
    "import scipy.ndimage as spimg\n",
    "import cvxpy as cvx\n",
    "import imageio\n",
    "import os\n",
    "from scipy import linalg\n",
    "from scipy import sparse\n",
    "import pywt\n",
    "import scipy.optimize as spopt\n",
    "import scipy.fftpack as spfft\n",
    "import scipy.ndimage as spimg\n",
    "import imageio\n",
    "from skimage.metrics import peak_signal_noise_ratio\n",
    "os.environ[\"CUDA_DEVICE_ORDER\"]=\"PCI_BUS_ID\"\n",
    "os.environ[\"CUDA_VISIBLE_DEVICES\"]=\"7\"  # specify which GPU(s) to be used\n",
    "import brainpy as bp\n",
    "import brainpy.math as bm\n",
    "bm.disable_gpu_memory_preallocation()\n",
    "bm.set_platform('gpu')"
   ]
  },
  {
   "cell_type": "code",
   "execution_count": null,
   "metadata": {},
   "outputs": [],
   "source": [
    "def imshowgray(im, vmin=None, vmax=None):\n",
    "    plt.imshow(im, cmap=plt.get_cmap('gray'), vmin=vmin, vmax=vmax)\n",
    "\n",
    "    \n",
    "def wavMask(dims, scale):\n",
    "    sx, sy = dims\n",
    "    res = np.ones(dims)\n",
    "    NM = np.round(np.log2(dims))\n",
    "    for n in range(int(np.min(NM)-scale+2)//2):\n",
    "        res[:int(np.round(2**(NM[0]-n))), :int(np.round(2**(NM[1]-n)))] = \\\n",
    "            res[:int(np.round(2**(NM[0]-n))), :int(np.round(2**(NM[1]-n)))]/2\n",
    "    return res\n",
    "\n",
    "\n",
    "def imshowWAV(Wim, scale=1):\n",
    "    plt.imshow(np.abs(Wim)*wavMask(Wim.shape, scale), cmap = plt.get_cmap('gray'))\n",
    "\n",
    "    \n",
    "def coeffs2img(LL, coeffs):\n",
    "    LH, HL, HH = coeffs\n",
    "    return np.vstack((np.hstack((LL, LH)), np.hstack((HL, HH))))\n",
    "\n",
    "\n",
    "def unstack_coeffs(Wim):\n",
    "        L1, L2  = np.hsplit(Wim, 2) \n",
    "        LL, HL = np.vsplit(L1, 2)\n",
    "        LH, HH = np.vsplit(L2, 2)\n",
    "        return LL, [LH, HL, HH]\n",
    "\n",
    "    \n",
    "def img2coeffs(Wim, levels=4):\n",
    "    LL, c = unstack_coeffs(Wim)\n",
    "    coeffs = [c]\n",
    "    for i in range(levels-1):\n",
    "        LL, c = unstack_coeffs(LL)\n",
    "        coeffs.insert(0,c)\n",
    "    coeffs.insert(0, LL)\n",
    "    return coeffs\n",
    "    \n",
    "    \n",
    "def dwt2(im):\n",
    "    coeffs = pywt.wavedec2(im, wavelet='db4', mode='per', level=4)\n",
    "    Wim, rest = coeffs[0], coeffs[1:]\n",
    "    for levels in rest:\n",
    "        Wim = coeffs2img(Wim, levels)\n",
    "    return Wim\n",
    "\n",
    "\n",
    "def idwt2(Wim):\n",
    "    coeffs = img2coeffs(Wim, levels=4)\n",
    "    return pywt.waverec2(coeffs, wavelet='db4', mode='per')"
   ]
  },
  {
   "cell_type": "code",
   "execution_count": null,
   "metadata": {},
   "outputs": [],
   "source": [
    "im  = imageio.imread('brain.bmp', mode='F')\n",
    "\n",
    "Wim = dwt2(im)\n",
    "f = 0.1\n",
    "m = np.sort(abs(Wim.ravel()))[::-1]\n",
    "ndx = int(len(m) * f)\n",
    "thr = m[ndx]\n",
    "Wim_thr = Wim * (abs(Wim) > thr)\n",
    "\n",
    "im3 = idwt2(Wim_thr)\n",
    "Wim_plus  = np.maximum(Wim_thr,0)\n",
    "Wim_minus = np.minimum(Wim_thr,0)\n",
    "\n",
    "X_plus_normalized  = Wim_plus/np.max(Wim_plus)\n",
    "X_minus_normalized = Wim_minus/np.min(Wim_minus)"
   ]
  },
  {
   "cell_type": "code",
   "execution_count": null,
   "metadata": {},
   "outputs": [],
   "source": [
    "X_plus_reshape  = X_plus_normalized.ravel()[:, np.newaxis]\n",
    "# X_plus_reshape  = abs(X_minus_normalized.ravel()[:, np.newaxis])\n",
    "rng = np.random.RandomState(3)\n",
    "# rng = np.random.RandomState(30)\n",
    "matrix_size = X_plus_reshape.shape[0]\n",
    "A = rng.randn(int(matrix_size* 0.2), matrix_size)  # random design\n",
    "A_norm = np.linalg.norm(A,ord=2,axis = 0,keepdims =True)\n",
    "phi = A /A_norm\n",
    "\n",
    "proj   =  phi @ X_plus_reshape\n",
    "factor = 1.\n",
    "\n",
    "b = bm.array((phi.T @ proj.flatten())/ factor)\n",
    "w = bm.array(phi.T @ phi)\n",
    "w[bm.diag_indices_from(w)] = 0"
   ]
  },
  {
   "cell_type": "code",
   "execution_count": null,
   "metadata": {},
   "outputs": [],
   "source": [
    "import Neuron_models as nm\n",
    "# net_double_rk2 = nm.SLCA_rk2(w.shape[0], w, b, 0.0001)\n",
    "net_double_rk2 = nm.SLCA_rk2(w.shape[0], w, b, 0.001)\n",
    "total_period = 200\n",
    "runner = bp.DSRunner(net_double_rk2,monitors=['N.spike'], dt = 0.1)\n",
    "runner.run(total_period)"
   ]
  },
  {
   "cell_type": "code",
   "execution_count": null,
   "metadata": {},
   "outputs": [],
   "source": [
    "size_num = runner.mon['N.spike'].shape[0]\n",
    "spike_calculate = runner.mon['N.spike']\n",
    "lca = np.sum(spike_calculate, axis=0)/total_period\n",
    "X_plus_recov = (np.max(Wim_plus)*lca.reshape(Wim_plus.shape[0],Wim_plus.shape[1]))\n",
    "# X_plus_recov = (np.max(Wim_minus)*lca.reshape(Wim_plus.shape[0],Wim_plus.shape[1]))"
   ]
  },
  {
   "cell_type": "code",
   "execution_count": null,
   "metadata": {},
   "outputs": [],
   "source": [
    "Wim_recov = X_plus_recov + Wim_minus\n",
    "im_recov = idwt2(Wim_recov)"
   ]
  },
  {
   "cell_type": "code",
   "execution_count": null,
   "metadata": {},
   "outputs": [],
   "source": [
    "np.save('W_plus.npy',  X_plus_recov)\n",
    "# np.save('W_minus.npy', X_plus_recov)"
   ]
  },
  {
   "cell_type": "code",
   "execution_count": null,
   "metadata": {},
   "outputs": [],
   "source": [
    "# Wim_plus  = np.load('W_plus.npy')\n",
    "# Wim_minus = np.load('W_minus.npy')\n",
    "# Wim_recov = Wim_plus - Wim_minus\n",
    "# im_recov = idwt2(Wim_recov)"
   ]
  },
  {
   "cell_type": "code",
   "execution_count": null,
   "metadata": {},
   "outputs": [],
   "source": [
    "plt.rcParams['figure.figsize'] = (16, 16)\n",
    "plt.subplot(1,3,1)\n",
    "imshowgray(np.abs(im))\n",
    "plt.title('Original')\n",
    "\n",
    "plt.subplot(1,3,2)\n",
    "imshowWAV(Wim)\n",
    "plt.title('DWT')\n",
    "\n",
    "plt.subplot(1,3,3)\n",
    "imshowgray(np.abs(im_recov))\n",
    "plt.title('Reconstruction')\n",
    "\n",
    "print('PSNR:', peak_signal_noise_ratio(im, im_recov, data_range=im.max() - im.min()))"
   ]
  },
  {
   "cell_type": "code",
   "execution_count": null,
   "metadata": {},
   "outputs": [],
   "source": [
    "plt.rcParams['figure.figsize'] = (16, 16)\n",
    "plt.subplot(1,3,1)\n",
    "imshowgray(np.abs(im))\n",
    "plt.title('Original')\n",
    "\n",
    "plt.subplot(1,3,2)\n",
    "imshowWAV(Wim)\n",
    "plt.title('DWT')\n",
    "\n",
    "plt.subplot(1,3,3)\n",
    "imshowgray(np.abs(im3))\n",
    "plt.title('Reconstruction')\n",
    "\n",
    "print('PSNR:', peak_signal_noise_ratio(im, im3, data_range=im.max() - im.min()))"
   ]
  },
  {
   "cell_type": "code",
   "execution_count": null,
   "metadata": {},
   "outputs": [],
   "source": []
  }
 ],
 "metadata": {
  "kernelspec": {
   "display_name": "cy_env",
   "language": "python",
   "name": "python3"
  },
  "language_info": {
   "codemirror_mode": {
    "name": "ipython",
    "version": 3
   },
   "file_extension": ".py",
   "mimetype": "text/x-python",
   "name": "python",
   "nbconvert_exporter": "python",
   "pygments_lexer": "ipython3",
   "version": "3.10.11"
  }
 },
 "nbformat": 4,
 "nbformat_minor": 2
}
