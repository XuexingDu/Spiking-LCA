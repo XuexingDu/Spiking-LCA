{
 "cells": [
  {
   "cell_type": "code",
   "execution_count": 1,
   "metadata": {},
   "outputs": [
    {
     "name": "stderr",
     "output_type": "stream",
     "text": [
      "/home/spirit/anaconda3/envs/slca/lib/python3.10/site-packages/tqdm/auto.py:21: TqdmWarning: IProgress not found. Please update jupyter and ipywidgets. See https://ipywidgets.readthedocs.io/en/stable/user_install.html\n",
      "  from .autonotebook import tqdm as notebook_tqdm\n"
     ]
    }
   ],
   "source": [
    "import brainpy as bp\n",
    "import brainpy.math as bm\n",
    "import numpy as np\n",
    "import matplotlib.pyplot as plt\n",
    "import os\n",
    "os.environ[\"CUDA_DEVICE_ORDER\"]=\"PCI_BUS_ID\"\n",
    "os.environ[\"CUDA_VISIBLE_DEVICES\"]=\"5,6\"  # specify which GPU(s) to be used\n",
    "bm.disable_gpu_memory_preallocation()\n",
    "bm.set_platform('gpu')"
   ]
  },
  {
   "cell_type": "code",
   "execution_count": 2,
   "metadata": {},
   "outputs": [],
   "source": [
    "class ML_Scale(bp.NeuGroup):\n",
    "  def __init__(self, size, method='rk2', **kwargs):\n",
    "    super(ML_Scale, self).__init__(size=size, **kwargs)\n",
    "    # parameters\n",
    "    self.V_Ca = 120./5.\n",
    "    self.g_Ca = 4.\n",
    "    self.V_K = -84./5.\n",
    "    self.g_K = 8.\n",
    "    self.V_leak = -60./5.\n",
    "    self.g_leak = 2.\n",
    "    self.C = 2./5.\n",
    "    self.V1 = -1.2\n",
    "    self.V2 = 18\n",
    "    self.V_th = -15./5.\n",
    "\n",
    "\n",
    "    self.V3 = 12.\n",
    "    self.V4 = 17.\n",
    "    self.phi = 2/3\n",
    "\n",
    "    # variables\n",
    "    self.V = bm.Variable(-40*bm.ones(self.num))\n",
    "    self.W = bm.Variable(bm.zeros(self.num))\n",
    "    self.input = bm.Variable(bm.zeros(self.num))\n",
    "    self.spike = bm.Variable(bm.zeros(self.num, dtype=bool))\n",
    "\n",
    "    # functions\n",
    "    def dV(V, t, W, input):\n",
    "        M_inf = (1 / 2) * (1 + bm.tanh((V*5. - self.V1) / self.V2))\n",
    "        I_Ca = self.g_Ca * M_inf * (V - self.V_Ca)\n",
    "        I_K = self.g_K * W * (V - self.V_K)\n",
    "        I_Leak = self.g_leak * (V - self.V_leak)\n",
    "        dVdt = (- I_Ca - I_K - I_Leak + input*2.) / self.C\n",
    "        return dVdt\n",
    "\n",
    "    def dW(W, t, V):\n",
    "        tau_W = 1 / (self.phi * 5. * bm.cosh((V*5. - self.V3) / (2 * self.V4)))\n",
    "        W_inf = (1 / 2) * (1 + bm.tanh((V*5. - self.V3) / self.V4))\n",
    "        dWdt = (W_inf - W) / tau_W\n",
    "        return dWdt\n",
    "\n",
    "    self.int_V = bp.odeint(dV, method=method)\n",
    "    self.int_W = bp.odeint(dW, method=method)\n",
    "\n",
    "  def update(self, tdi):\n",
    "    V = self.int_V(self.V, tdi.t, self.W, self.input, tdi.dt)\n",
    "    self.W.value = self.int_W(self.W, tdi.t, self.V, tdi.dt)\n",
    "    self.spike.value = bm.logical_and(self.V < self.V_th, V >= self.V_th)\n",
    "    self.V.value = V\n",
    "    self.input[:] = 0."
   ]
  },
  {
   "cell_type": "code",
   "execution_count": 3,
   "metadata": {},
   "outputs": [
    {
     "name": "stdout",
     "output_type": "stream",
     "text": [
      "Array(value=Array([[0.        , 0.7397555 , 0.62646115],\n",
      "                   [0.7397555 , 0.        , 0.82969487],\n",
      "                   [0.62646115, 0.82969487, 0.        ]]),\n",
      "      dtype=float32)\n",
      "Array(value=Array([1.5460999, 1.44855  , 1.74575  ]), dtype=float32)\n"
     ]
    }
   ],
   "source": [
    "s =bm.array([0.5,1,1.5])\n",
    "phi = bm.array([[0.3313,0.8148,0.4364],[0.8835,0.3621,0.2182],[0.3313,0.4527,0.8729]])\n",
    "b = bm.dot(phi.T,s)\n",
    "w = bm.dot(phi.T,phi)\n",
    "w[bm.diag_indices_from(w)] = 0\n",
    "print(w)\n",
    "print(b)"
   ]
  },
  {
   "cell_type": "code",
   "execution_count": 19,
   "metadata": {},
   "outputs": [],
   "source": [
    "class Spiking_LCA(bp.DynamicalSystemNS):\n",
    "    def __init__(self, num, w, b, lamb, method='exp_auto'):\n",
    "        super(Spiking_LCA, self).__init__()\n",
    "        \n",
    "        # parameter setting\n",
    "        self.lamb = lamb\n",
    "        \n",
    "        # network size\n",
    "        num_neuron = int(num)\n",
    "        self.N = ML_Scale(num_neuron)\n",
    "        self.average_current = bm.Variable(bm.zeros(num_neuron))          # 平均电流记录\n",
    "        # synapses\n",
    "        self.N2N = bp.synapses.Exponential(pre=self.N,\n",
    "                                            post=self.N,\n",
    "                                            conn= bp.connect.All2All(),\n",
    "                                            g_max= w,\n",
    "                                            tau=1.,\n",
    "                                            output=bp.synouts.CUBA(),\n",
    "                                            method=method)\n",
    "\n",
    "    # def reversed_function(self,x):\n",
    "    #     return 7.43164314*x**4 -14.61153623* x**3 + 13.71690213 *x**2 -3.86053151*x + 4.32149502\n",
    "\n",
    "    def reversed_function(self, x):\n",
    "        return 8.35304086 * x**5 - 22.99371634 * x**4 + 26.47121174 * x**3 - 11.32892117 * x**2 + 2.74156822 * x + 3.76677658\n",
    "\n",
    "\n",
    "    def update(self):\n",
    "        t = bp.share.load('t')\n",
    "        dt = bp.share.load('dt')\n",
    "        self.N2N()\n",
    "        self.average_current.value = self.average_current *t/(t + 1) + (b - self.N2N.g)/(t+1)\n",
    "        firing_rate  =  bm.maximum(self.average_current - self.lamb, 0.)\n",
    "        self.N.input =  bm.where(firing_rate > 1e-7, self.reversed_function(firing_rate) , 3.9)\n",
    "        self.N()"
   ]
  },
  {
   "cell_type": "code",
   "execution_count": 20,
   "metadata": {},
   "outputs": [
    {
     "name": "stderr",
     "output_type": "stream",
     "text": [
      "Predict 300000 steps: :   0%|          | 0/300000 [00:00<?, ?it/s]"
     ]
    },
    {
     "name": "stderr",
     "output_type": "stream",
     "text": [
      "Predict 300000 steps: : 100%|██████████| 300000/300000 [01:47<00:00, 2791.13it/s] \n"
     ]
    }
   ],
   "source": [
    "net    = Spiking_LCA(w.shape[0],w,b,0.1)\n",
    "total_period = 3000\n",
    "runner = bp.DSRunner(net,monitors=['N.V','N.spike'], dt = 0.01)\n",
    "runner.run(total_period)"
   ]
  },
  {
   "cell_type": "code",
   "execution_count": 21,
   "metadata": {},
   "outputs": [
    {
     "name": "stdout",
     "output_type": "stream",
     "text": [
      "300000\n",
      "[0.68       0.         1.21866667]\n"
     ]
    }
   ],
   "source": [
    "size_num = runner.mon['N.spike'].shape[0]\n",
    "print(size_num)\n",
    "spike_calculate = runner.mon['N.spike'][size_num*3//4:,:]\n",
    "sum_along_columns = np.sum(spike_calculate, axis=0)/total_period*4\n",
    "print(sum_along_columns)"
   ]
  },
  {
   "cell_type": "code",
   "execution_count": null,
   "metadata": {},
   "outputs": [],
   "source": []
  }
 ],
 "metadata": {
  "kernelspec": {
   "display_name": "slca",
   "language": "python",
   "name": "python3"
  },
  "language_info": {
   "codemirror_mode": {
    "name": "ipython",
    "version": 3
   },
   "file_extension": ".py",
   "mimetype": "text/x-python",
   "name": "python",
   "nbconvert_exporter": "python",
   "pygments_lexer": "ipython3",
   "version": "3.10.11"
  },
  "orig_nbformat": 4
 },
 "nbformat": 4,
 "nbformat_minor": 2
}
