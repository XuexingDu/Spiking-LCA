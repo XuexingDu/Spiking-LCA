{
 "cells": [
  {
   "cell_type": "code",
   "execution_count": 29,
   "metadata": {},
   "outputs": [],
   "source": [
    "import brainpy as bp\n",
    "import brainpy.math as bm\n",
    "import numpy as np\n",
    "import matplotlib.pyplot as plt\n",
    "import os\n",
    "os.environ[\"CUDA_DEVICE_ORDER\"]=\"PCI_BUS_ID\"\n",
    "os.environ[\"CUDA_VISIBLE_DEVICES\"]=\"3,4\" # specify which GPU(s) to be used\n",
    "bm.disable_gpu_memory_preallocation()\n",
    "bm.set_platform('gpu')\n",
    "# bm.set_platform('cpu')"
   ]
  },
  {
   "cell_type": "code",
   "execution_count": 30,
   "metadata": {},
   "outputs": [
    {
     "name": "stdout",
     "output_type": "stream",
     "text": [
      "Array(value=Array([[0.        , 0.7397555 , 0.62646115],\n",
      "                   [0.7397555 , 0.        , 0.82969487],\n",
      "                   [0.62646115, 0.82969487, 0.        ]]),\n",
      "      dtype=float32)\n",
      "Array(value=Array([1.5460999, 1.44855  , 1.74575  ]), dtype=float32)\n"
     ]
    }
   ],
   "source": [
    "s =bm.array([0.5,1,1.5])\n",
    "phi = bm.array([[0.3313,0.8148,0.4364],[0.8835,0.3621,0.2182],[0.3313,0.4527,0.8729]])\n",
    "b = phi.T @ s\n",
    "w = phi.T @ phi\n",
    "w[bm.diag_indices_from(w)] = 0\n",
    "print(w)\n",
    "print(b)"
   ]
  },
  {
   "cell_type": "code",
   "execution_count": 31,
   "metadata": {},
   "outputs": [],
   "source": [
    "lamb = 0.1\n",
    "class LIF(bp.NeuGroupNS):\n",
    "    def __init__(self, size, V_rest=0., V_reset=0., V_th=1., R=100., tau=100., t_ref= 0.05, name=None):\n",
    "        # 初始化父类\n",
    "        super(LIF, self).__init__(size=size, name=name)\n",
    "\n",
    "        # 初始化参数\n",
    "        self.V_rest = V_rest\n",
    "        self.V_reset = V_reset\n",
    "        self.V_th = V_th\n",
    "        self.R = R\n",
    "        self.tau = tau\n",
    "        self.t_ref = t_ref  # 不应期时长\n",
    "\n",
    "        # 初始化变量\n",
    "        self.V = bm.Variable(bm.zeros(self.num) + V_reset)\n",
    "        self.input = bm.Variable(bm.zeros(self.num))\n",
    "        self.t_last_spike = bm.Variable(bm.ones(self.num) * -1e7)  # 上一次脉冲发放时间\n",
    "        self.refractory = bm.Variable(bm.zeros(self.num, dtype=bool))  # 是否处于不应期\n",
    "        self.spike = bm.Variable(bm.zeros(self.num, dtype=bool))  # 脉冲发放状态\n",
    "        # self.Iext  = bm.Variable(bm.zeros(self.num))\n",
    "\n",
    "        # 使用指数欧拉方法进行积分\n",
    "        self.integral = bp.odeint(f=self.derivative, method='exp_auto')\n",
    "\n",
    "    # 定义膜电位关于时间变化的微分方程\n",
    "    def derivative(self, V, t, R, Iext):\n",
    "        dvdt = (-V + self.V_rest + R * Iext) / self.tau\n",
    "        return dvdt\n",
    "    \n",
    "    def update(self):\n",
    "        t = bp.share.load('t')\n",
    "        dt = bp.share.load('dt')\n",
    "        # 以数组的方式对神经元进行更新\n",
    "        refractory = (t - self.t_last_spike) <= self.t_ref  # 判断神经元是否处于不应期\n",
    "        V = self.integral(self.V, t, self.R, self.input, dt=dt)  # 根据时间步长更新膜电位\n",
    "        V = bm.where(refractory, self.V, V)  # 若处于不应期，则返回原始膜电位self.V，否则返回更新后的膜电位V\n",
    "        spike = V > self.V_th  # 将大于阈值的神经元标记为发放了脉冲\n",
    "        self.spike.value = spike  # 更新神经元脉冲发放状态\n",
    "        self.t_last_spike.value = bm.where(spike, t, self.t_last_spike)  # 更新最后一次脉冲发放时间\n",
    "        self.V.value = bm.where(spike, self.V_reset, V)  # 将发放了脉冲的神经元膜电位置为V_reset，其余不变\n",
    "        self.refractory.value = bm.logical_or(refractory, spike)  # 更新神经元是否处于不应期\n",
    "        self.input[:] = 0.  # 重置外界输入"
   ]
  },
  {
   "cell_type": "code",
   "execution_count": 32,
   "metadata": {},
   "outputs": [],
   "source": [
    "class Spiking_LCA(bp.DynamicalSystemNS):\n",
    "    def __init__(self, num, w, b, lamb, V_rest=0., V_reset=0., V_th=1., R=10., tau=10., t_ref= 0.05, scale=1.0, method='exp_auto'):\n",
    "        super(Spiking_LCA, self).__init__()\n",
    "        \n",
    "        # parameter setting\n",
    "        self.V_rest = V_rest\n",
    "        self.V_reset = V_reset\n",
    "        self.V_th = V_th\n",
    "        self.R = R\n",
    "        self.tau = tau\n",
    "        self.t_ref = t_ref  # 不应期时长\n",
    "        self.lamb  = lamb\n",
    "        \n",
    "        # network size\n",
    "        num_neuron = int(num * scale)\n",
    "\n",
    "        pars = dict(V_rest=V_rest, V_th=V_th, V_reset=V_reset, tau = tau, R =R, t_ref = t_ref)\n",
    "        self.N = LIF(num_neuron, **pars)\n",
    "        self.average_current = bm.Variable(bm.zeros(num_neuron))          # 平均电流记录\n",
    "        # synapses\n",
    "        self.N2N = bp.synapses.Exponential(pre=self.N,\n",
    "                                            post=self.N,\n",
    "                                            conn= bp.connect.All2All(),\n",
    "                                            g_max= w,\n",
    "                                            tau=1.,\n",
    "                                            output=bp.synouts.CUBA(),\n",
    "                                            method=method,\n",
    "                                            comp_method='dense')\n",
    "        \n",
    "    # def update(self,tdi):\n",
    "    #     self.N2N(tdi)\n",
    "    #     self.N.input += 3\n",
    "    #     self.N(tdi)\n",
    "        \n",
    "    def update(self):\n",
    "        t  = bp.share.load('t')\n",
    "        dt = bp.share.load('dt')\n",
    "        self.N2N()\n",
    "        self.average_current.value = self.average_current * t/(t + 1) + (b - self.N2N.g)/(t+ 1)\n",
    "        firing_rate =  bm.maximum(self.average_current - self.lamb, 0.)\n",
    "        # self.N.input = bm.where(firing_rate > 1e-7, self.V_th / (self.R * (1 - bm.exp((self.t_ref - 1 / firing_rate) / self.R))), self.V_th/self.R)\n",
    "        self.N.input   = bm.where(firing_rate > 1e-7, self.V_th / (self.R * (1 - bm.exp((self.t_ref - 1 / firing_rate) / self.R))), self.V_th/self.R)\n",
    "        self.N()"
   ]
  },
  {
   "cell_type": "code",
   "execution_count": 18,
   "metadata": {},
   "outputs": [
    {
     "name": "stdout",
     "output_type": "stream",
     "text": [
      "(3,)\n"
     ]
    }
   ],
   "source": [
    "neuron_group = LIF(1)\n",
    "net = Spiking_LCA(w.shape[0],w,b,0.1)\n",
    "\n",
    "print(net.N2N.g.shape)\n",
    "\n",
    "# runner = bp.DSRunner(neuron_group,monitors=['V'], inputs=['input',1],dt=0.01)\n",
    "# runner.run(10)\n",
    "# plt.plot(runner.mon.ts, runner.mon['V'])"
   ]
  },
  {
   "cell_type": "code",
   "execution_count": 12,
   "metadata": {},
   "outputs": [],
   "source": [
    "rng = np.random.RandomState(28)\n",
    "m, n = 7500, 10000\n",
    "# m, n = 3000, 5024\n",
    "# random design\n",
    "A = rng.randn(m, n)  # random design\n",
    "A_norm = np.linalg.norm(A,ord=2,axis = 0,keepdims =True)\n",
    "A = A /A_norm\n",
    "x0 = rng.rand(n)\n",
    "x0[x0 < 0.9] = 0\n",
    "b_np = np.dot(A, x0)\n",
    "b = np.dot(A.T,b_np)\n",
    "w = np.dot(A.T,A)\n",
    "w[np.diag_indices_from(w)] = 0\n",
    "w = bm.array(w)\n",
    "b = bm.array(b)\n",
    "l = 0.5  # regularization parameter"
   ]
  },
  {
   "cell_type": "code",
   "execution_count": 33,
   "metadata": {},
   "outputs": [
    {
     "name": "stderr",
     "output_type": "stream",
     "text": [
      "Predict 100000 steps: :   0%|          | 0/100000 [00:00<?, ?it/s]"
     ]
    },
    {
     "name": "stderr",
     "output_type": "stream",
     "text": [
      "Predict 100000 steps: : 100%|██████████| 100000/100000 [00:08<00:00, 12210.04it/s]\n"
     ]
    }
   ],
   "source": [
    "# net    = Spiking_LCA(1,0,1)\n",
    "# net    = Spiking_LCA(2,bm.array([[0,1],[1,0]]),bm.array([2,2]))\n",
    "l = 0.1\n",
    "net    = Spiking_LCA(w.shape[0],w,b,l)\n",
    "total_period = 1000\n",
    "runner = bp.DSRunner(net,monitors=['N.V','N.spike','N2N.g'], dt = 0.01)\n",
    "runner.run(total_period)\n",
    "# plt.plot(runner.mon.ts, runner.mon['N.V'])"
   ]
  },
  {
   "cell_type": "code",
   "execution_count": 34,
   "metadata": {},
   "outputs": [
    {
     "name": "stdout",
     "output_type": "stream",
     "text": [
      "[0.678 0.003 1.217]\n"
     ]
    }
   ],
   "source": [
    "size_num = runner.mon['N.spike'].shape[0]\n",
    "spike_calculate = runner.mon['N.spike']\n",
    "sum_along_columns = np.sum(spike_calculate, axis=0)/total_period\n",
    "print(sum_along_columns)"
   ]
  },
  {
   "cell_type": "code",
   "execution_count": null,
   "metadata": {},
   "outputs": [],
   "source": []
  }
 ],
 "metadata": {
  "kernelspec": {
   "display_name": "cy_env",
   "language": "python",
   "name": "python3"
  },
  "language_info": {
   "codemirror_mode": {
    "name": "ipython",
    "version": 3
   },
   "file_extension": ".py",
   "mimetype": "text/x-python",
   "name": "python",
   "nbconvert_exporter": "python",
   "pygments_lexer": "ipython3",
   "version": "3.10.11"
  },
  "orig_nbformat": 4
 },
 "nbformat": 4,
 "nbformat_minor": 2
}
