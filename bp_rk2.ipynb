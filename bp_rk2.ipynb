{
 "cells": [
  {
   "cell_type": "code",
   "execution_count": 1,
   "metadata": {
    "notebookRunGroups": {
     "groupValue": ""
    }
   },
   "outputs": [
    {
     "name": "stderr",
     "output_type": "stream",
     "text": [
      "/home/spirit/anaconda3/envs/cy_env/lib/python3.10/site-packages/tqdm/auto.py:21: TqdmWarning: IProgress not found. Please update jupyter and ipywidgets. See https://ipywidgets.readthedocs.io/en/stable/user_install.html\n",
      "  from .autonotebook import tqdm as notebook_tqdm\n"
     ]
    }
   ],
   "source": [
    "import brainpy as bp\n",
    "import brainpy.math as bm\n",
    "import numpy as np\n",
    "import matplotlib.pyplot as plt\n",
    "import os\n",
    "os.environ[\"CUDA_DEVICE_ORDER\"]=\"PCI_BUS_ID\"\n",
    "os.environ[\"CUDA_VISIBLE_DEVICES\"]=\"3,4\" # specify which GPU(s) to be used\n",
    "bm.disable_gpu_memory_preallocation()\n",
    "bm.set_platform('gpu')"
   ]
  },
  {
   "cell_type": "code",
   "execution_count": 2,
   "metadata": {},
   "outputs": [
    {
     "name": "stdout",
     "output_type": "stream",
     "text": [
      "Array(value=Array([[0.        , 0.7397555 , 0.62646115],\n",
      "                   [0.7397555 , 0.        , 0.82969487],\n",
      "                   [0.62646115, 0.82969487, 0.        ]]),\n",
      "      dtype=float32)\n",
      "Array(value=Array([1.5460999, 1.44855  , 1.74575  ]), dtype=float32)\n"
     ]
    }
   ],
   "source": [
    "s =bm.array([0.5,1,1.5])\n",
    "phi = bm.array([[0.3313,0.8148,0.4364],[0.8835,0.3621,0.2182],[0.3313,0.4527,0.8729]])\n",
    "b = phi.T @ s\n",
    "w = phi.T @ phi\n",
    "w[bm.diag_indices_from(w)] = 0\n",
    "print(w)\n",
    "print(b)"
   ]
  },
  {
   "cell_type": "code",
   "execution_count": 18,
   "metadata": {
    "notebookRunGroups": {
     "groupValue": "1"
    }
   },
   "outputs": [],
   "source": [
    "lamb = 0.1\n",
    "class IF_rk2(bp.NeuGroupNS):\n",
    "    def __init__(self, size, b,  **kwargs):\n",
    "        super(IF_rk2, self).__init__(size, **kwargs)\n",
    "\n",
    "        self.V = bm.Variable(bm.zeros(size))\n",
    "        self.cross = bm.Variable(bm.zeros(size))\n",
    "        self.spike = bm.Variable(bm.zeros(size, dtype=bool))\n",
    "        self.input = bm.Variable(bm.zeros(size))\n",
    "        self.b     = b\n",
    "\n",
    "    def update(self):\n",
    "        dt = bp.share.load('dt')\n",
    "        V = self.V + dt * (self.b + self.input - lamb)\n",
    "        self.spike.value = V >= 1.\n",
    "        dt_cross = bm.where(self.spike > 0., dt * (1 - self.V)/(V - self.V), 0.)\n",
    "        self.cross.value = bm.where(self.spike >0., bm.exp(dt_cross -dt), 0.)\n",
    "        # self.cross.value = dt_cross\n",
    "        self.V.value = bm.where(self.spike > 0., 0. - (dt_cross - dt) * (b + self.input -lamb)  , V)\n",
    "        self.input[:] = 0"
   ]
  },
  {
   "cell_type": "code",
   "execution_count": 19,
   "metadata": {
    "notebookRunGroups": {
     "groupValue": "1"
    }
   },
   "outputs": [],
   "source": [
    "class Spiking_LCA_rk2(bp.DynamicalSystemNS):\n",
    "    def __init__(self, num, w, b, scale=1.0, method='rk2'):\n",
    "        super(Spiking_LCA_rk2, self).__init__()\n",
    "        \n",
    "        # network size\n",
    "        num_neuron = int(num * scale)\n",
    "\n",
    "        # pars = dict(V_rest=0., V_th=1., V_reset=0., tau=1., tau_ref=0., method = method,\n",
    "        #                                 V_initializer=bp.init.OneInit(value=0.))\n",
    "        # self.N = bp.neurons.LIF(num_neuron, **pars)\n",
    "        self.N   = IF_rk2(num_neuron,b)\n",
    "\n",
    "        # synapses\n",
    "        self.w_matrix = w   # excitatory synaptic weight (voltage)\n",
    "        # w_matrix  = 0.\n",
    "        self.N2N = bp.synapses.Exponential(pre=self.N,\n",
    "                                            post=self.N,\n",
    "                                            conn= bp.connect.All2All(),\n",
    "                                            g_max= -self.w_matrix,\n",
    "                                            tau=1.,\n",
    "                                            output= bp.synouts.CUBA(),\n",
    "                                            method=method,\n",
    "                                            comp_method='dense')\n",
    "        \n",
    "    def update(self):\n",
    "        t = bp.share.load('t')\n",
    "        dt = bp.share.load('dt')\n",
    "        self.N2N()\n",
    "        self.N.input += bm.where(self.N.spike > 0, - self.w_matrix @ self.N.cross, 0.) \n",
    "        self.N()"
   ]
  },
  {
   "cell_type": "code",
   "execution_count": 34,
   "metadata": {
    "notebookRunGroups": {
     "groupValue": "12"
    },
    "tags": []
   },
   "outputs": [
    {
     "name": "stderr",
     "output_type": "stream",
     "text": [
      "Predict 150000 steps: :   0%|          | 0/150000 [00:00<?, ?it/s]"
     ]
    },
    {
     "name": "stderr",
     "output_type": "stream",
     "text": [
      "Predict 150000 steps: : 100%|██████████| 150000/150000 [00:11<00:00, 13118.41it/s]\n"
     ]
    }
   ],
   "source": [
    "net_rk2    = Spiking_LCA_rk2(3,w,b)\n",
    "total_period = 1500\n",
    "runner = bp.DSRunner(net_rk2,monitors=['N.spike','N.V','N.cross'], dt = 0.01)\n",
    "runner.run(total_period)"
   ]
  },
  {
   "cell_type": "code",
   "execution_count": 44,
   "metadata": {
    "notebookRunGroups": {
     "groupValue": "2"
    }
   },
   "outputs": [
    {
     "name": "stdout",
     "output_type": "stream",
     "text": [
      "[6.79333333e-01 6.66666667e-04 1.21733333e+00]\n"
     ]
    }
   ],
   "source": [
    "size_num = runner.mon['N.spike'].shape[0]\n",
    "spike_calculate = runner.mon['N.spike']\n",
    "sum_along_columns = np.sum(spike_calculate, axis=0)/total_period\n",
    "print(sum_along_columns)"
   ]
  },
  {
   "cell_type": "code",
   "execution_count": 25,
   "metadata": {},
   "outputs": [
    {
     "name": "stdout",
     "output_type": "stream",
     "text": [
      "[[0. 0. 0.]\n",
      " [0. 0. 0.]\n",
      " [0. 0. 0.]\n",
      " ...\n",
      " [0. 0. 0.]\n",
      " [0. 0. 0.]\n",
      " [0. 0. 0.]]\n"
     ]
    }
   ],
   "source": [
    "print(runner.mon['N.cross'])"
   ]
  },
  {
   "cell_type": "code",
   "execution_count": 33,
   "metadata": {},
   "outputs": [
    {
     "name": "stdout",
     "output_type": "stream",
     "text": [
      "[0.99463385 0.99385405 0.9926323  0.99881685 0.99795747 0.9930292\n",
      " 0.9980582  0.999314   0.99106765 0.9975513  0.9908724  0.99114645\n",
      " 0.99859184 0.9913829  0.9938216  0.9977323  0.9914427  0.99264354\n",
      " 0.99117297 0.9987424  0.9944738  0.9989461  0.99573576 0.99732715\n",
      " 0.99035317 0.99924135 0.997777   0.9980435  0.9909119  0.9973382 ]\n",
      "0.99004984\n"
     ]
    }
   ],
   "source": [
    "matrix = runner.mon['N.cross']\n",
    "nonzero_elements = matrix[matrix != 0]\n",
    "print(nonzero_elements[20:50])\n",
    "print(bm.exp(-0.01))"
   ]
  },
  {
   "cell_type": "code",
   "execution_count": 7,
   "metadata": {},
   "outputs": [],
   "source": [
    "class BaseExpSyn(bp.SynConn):\n",
    "  def __init__(self, pre, post, conn, g_max=1., delay=0., tau=8.0, E=0., method='exp_auto'):\n",
    "    super(BaseExpSyn, self).__init__(pre=pre, post=post, conn=conn)\n",
    "\n",
    "    # check whether the pre group has the needed attribute: \"spike\"\n",
    "    self.check_pre_attrs('spike')\n",
    "\n",
    "    # check whether the post group has the needed attribute: \"input\" and \"V\"\n",
    "    self.check_post_attrs('input', 'V')\n",
    "\n",
    "    # parameters\n",
    "    self.E = E\n",
    "    self.tau = tau\n",
    "    self.delay = delay\n",
    "    self.g_max = g_max\n",
    "\n",
    "    # use \"LengthDelay\" to store the spikes of the pre-synaptic neuron group\n",
    "    self.delay_step = int(delay/bm.get_dt())\n",
    "    self.pre_spike = bm.LengthDelay(pre.spike, self.delay_step)\n",
    "\n",
    "    # integral function\n",
    "    self.integral = bp.odeint(lambda g, t: -g / self.tau, method=method)"
   ]
  }
 ],
 "metadata": {
  "kernelspec": {
   "display_name": "cy_env",
   "language": "python",
   "name": "python3"
  },
  "language_info": {
   "codemirror_mode": {
    "name": "ipython",
    "version": 3
   },
   "file_extension": ".py",
   "mimetype": "text/x-python",
   "name": "python",
   "nbconvert_exporter": "python",
   "pygments_lexer": "ipython3",
   "version": "3.10.11"
  },
  "orig_nbformat": 4
 },
 "nbformat": 4,
 "nbformat_minor": 2
}
