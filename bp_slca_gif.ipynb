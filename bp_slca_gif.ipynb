{
 "cells": [
  {
   "cell_type": "code",
   "execution_count": 1,
   "metadata": {},
   "outputs": [
    {
     "name": "stderr",
     "output_type": "stream",
     "text": [
      "/home/spirit/anaconda3/envs/slca/lib/python3.10/site-packages/tqdm/auto.py:21: TqdmWarning: IProgress not found. Please update jupyter and ipywidgets. See https://ipywidgets.readthedocs.io/en/stable/user_install.html\n",
      "  from .autonotebook import tqdm as notebook_tqdm\n"
     ]
    }
   ],
   "source": [
    "import brainpy as bp\n",
    "import brainpy.math as bm\n",
    "import numpy as np\n",
    "import matplotlib.pyplot as plt\n",
    "import os\n",
    "os.environ[\"CUDA_DEVICE_ORDER\"]=\"PCI_BUS_ID\"\n",
    "os.environ[\"CUDA_VISIBLE_DEVICES\"]=\"5,6\"  # specify which GPU(s) to be used\n",
    "bm.disable_gpu_memory_preallocation()\n",
    "bm.set_platform('gpu')"
   ]
  },
  {
   "cell_type": "code",
   "execution_count": 2,
   "metadata": {},
   "outputs": [
    {
     "name": "stdout",
     "output_type": "stream",
     "text": [
      "Array(value=Array([[0.        , 0.7397555 , 0.62646115],\n",
      "                   [0.7397555 , 0.        , 0.82969487],\n",
      "                   [0.62646115, 0.82969487, 0.        ]]),\n",
      "      dtype=float32)\n",
      "Array(value=Array([1.5460999, 1.44855  , 1.74575  ]), dtype=float32)\n"
     ]
    }
   ],
   "source": [
    "s =bm.array([0.5,1,1.5])\n",
    "phi = bm.array([[0.3313,0.8148,0.4364],[0.8835,0.3621,0.2182],[0.3313,0.4527,0.8729]])\n",
    "b = bm.dot(phi.T,s)\n",
    "w = bm.dot(phi.T,phi)\n",
    "w[bm.diag_indices_from(w)] = 0\n",
    "print(w)\n",
    "print(b)"
   ]
  },
  {
   "cell_type": "code",
   "execution_count": 8,
   "metadata": {},
   "outputs": [],
   "source": [
    "class Spiking_LCA(bp.DynamicalSystemNS):\n",
    "    def __init__(self, num, w, b, lamb, method='rk2'):\n",
    "        super(Spiking_LCA, self).__init__()\n",
    "        \n",
    "        self.lamb = lamb\n",
    "        \n",
    "        # network size\n",
    "        num_neuron = int(num)\n",
    "        self.N = bp.neurons.GIF(num_neuron, method=method)\n",
    "        self.average_current = bm.Variable(bm.zeros(num_neuron))          # 平均电流记录\n",
    "        # synapses\n",
    "        self.N2N = bp.synapses.Exponential(pre=self.N,\n",
    "                                            post=self.N,\n",
    "                                            conn= bp.connect.All2All(),\n",
    "                                            g_max= w,\n",
    "                                            tau=1.,\n",
    "                                            output=bp.synouts.CUBA(),\n",
    "                                            method=method)\n",
    "\n",
    "    def reversed_function(self, x):\n",
    "        return -1.87392121 * x**5 + 6.91853151 * x**4 - 9.31760692 * x**3 + 5.73923156 * x**2 + 18.46991473 * x + 0.66899093\n",
    "\n",
    "\n",
    "    # def reversed_function(self, x):\n",
    "    #     return -0.0471247 * x**3 + 0.32773097 * x**2 + 2.83983869 * x + 0.20385288\n",
    "\n",
    "                \n",
    "    def update(self):\n",
    "        t = bp.share.load('t')\n",
    "        self.N2N()\n",
    "        self.average_current.value = self.average_current *t/(t + 1) + (b - self.N2N.g)/(t+1)\n",
    "        firing_rate  =  bm.maximum(self.average_current - self.lamb, 0.)\n",
    "        self.N.input =  bm.where(firing_rate > 1e-7, self.reversed_function(firing_rate) , 1.)\n",
    "        self.N()"
   ]
  },
  {
   "cell_type": "code",
   "execution_count": 9,
   "metadata": {},
   "outputs": [
    {
     "name": "stderr",
     "output_type": "stream",
     "text": [
      "Predict 300000 steps: :   0%|          | 0/300000 [00:00<?, ?it/s]"
     ]
    },
    {
     "name": "stderr",
     "output_type": "stream",
     "text": [
      "Predict 300000 steps: : 100%|██████████| 300000/300000 [02:24<00:00, 2073.67it/s]\n"
     ]
    }
   ],
   "source": [
    "net    = Spiking_LCA(w.shape[0],w,b,0.1)\n",
    "total_period = 3000\n",
    "runner = bp.DSRunner(net,monitors=['N.V','N.spike'], dt = 0.01)\n",
    "runner.run(total_period)"
   ]
  },
  {
   "cell_type": "code",
   "execution_count": 10,
   "metadata": {},
   "outputs": [
    {
     "name": "stdout",
     "output_type": "stream",
     "text": [
      "300000\n",
      "[0.68       0.         1.21955556]\n"
     ]
    }
   ],
   "source": [
    "size_num = runner.mon['N.spike'].shape[0]\n",
    "print(size_num)\n",
    "spike_calculate = runner.mon['N.spike'][size_num//4:,:]\n",
    "sum_along_columns = np.sum(spike_calculate, axis=0)/total_period*4/3\n",
    "print(sum_along_columns)"
   ]
  },
  {
   "cell_type": "code",
   "execution_count": null,
   "metadata": {},
   "outputs": [],
   "source": []
  }
 ],
 "metadata": {
  "kernelspec": {
   "display_name": "slca",
   "language": "python",
   "name": "python3"
  },
  "language_info": {
   "codemirror_mode": {
    "name": "ipython",
    "version": 3
   },
   "file_extension": ".py",
   "mimetype": "text/x-python",
   "name": "python",
   "nbconvert_exporter": "python",
   "pygments_lexer": "ipython3",
   "version": "3.10.11"
  },
  "orig_nbformat": 4
 },
 "nbformat": 4,
 "nbformat_minor": 2
}
